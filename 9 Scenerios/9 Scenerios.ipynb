{
 "cells": [
  {
   "cell_type": "markdown",
   "id": "8cbce27a-a49a-4cee-a8e4-fc27cec100f8",
   "metadata": {},
   "source": [
    "Write a Python function to reverse a string.\n"
   ]
  },
  {
   "cell_type": "code",
   "execution_count": 1,
   "id": "55e6b40a-a2f7-4446-b8c7-e06876f4d6dc",
   "metadata": {},
   "outputs": [
    {
     "data": {
      "text/plain": [
       "'azmah'"
      ]
     },
     "execution_count": 1,
     "metadata": {},
     "output_type": "execute_result"
    }
   ],
   "source": [
    "st = \"hamza\"\n",
    "st[::-1]"
   ]
  },
  {
   "cell_type": "markdown",
   "id": "6c464df5-4eea-4119-81c8-3b906b4abf38",
   "metadata": {},
   "source": [
    "Write a Python function to find the maximum number in a list.\n"
   ]
  },
  {
   "cell_type": "code",
   "execution_count": 2,
   "id": "cc9fad5a-10b2-4fb7-aa5f-001485f94c53",
   "metadata": {},
   "outputs": [
    {
     "name": "stdout",
     "output_type": "stream",
     "text": [
      "8\n"
     ]
    }
   ],
   "source": [
    "l = [1,4,6,4,3,5,7,8,5,4]\n",
    "m_n = l[0]\n",
    "for i in l:\n",
    "    if i > m_n:\n",
    "        m_n = i\n",
    "\n",
    "print(m_n)"
   ]
  },
  {
   "cell_type": "markdown",
   "id": "cbdd677c-4bf2-4575-af5a-5519eb2d1313",
   "metadata": {},
   "source": [
    "Write a Python function that takes a list of numbers and returns the average of the list."
   ]
  },
  {
   "cell_type": "code",
   "execution_count": 3,
   "id": "66291912-78d8-4871-bb68-04f8b22365a2",
   "metadata": {},
   "outputs": [
    {
     "name": "stdout",
     "output_type": "stream",
     "text": [
      "6\n",
      "3.5\n"
     ]
    }
   ],
   "source": [
    "l = [1,2,3,4,5,6]\n",
    "sum = 0\n",
    "for i in l:\n",
    "    sum += i\n",
    "print(len(l))\n",
    "average = sum / len(l)\n",
    "\n",
    "print(average)"
   ]
  },
  {
   "cell_type": "markdown",
   "id": "2889fe40-8be2-48f8-b67a-d590f2f95cc4",
   "metadata": {},
   "source": [
    "Write a Python function to count the occurrences of each character in a string."
   ]
  },
  {
   "cell_type": "code",
   "execution_count": 4,
   "id": "50ff11ba-3c32-4201-ac49-9a350ff27d5e",
   "metadata": {},
   "outputs": [
    {
     "name": "stdout",
     "output_type": "stream",
     "text": [
      "4\n"
     ]
    }
   ],
   "source": [
    "string = \"hamza aslam\"\n",
    "print(string.count(\"a\"))"
   ]
  },
  {
   "cell_type": "code",
   "execution_count": 5,
   "id": "738b0699-d6af-495c-be78-066e22c39b01",
   "metadata": {},
   "outputs": [
    {
     "data": {
      "text/plain": [
       "3"
      ]
     },
     "execution_count": 5,
     "metadata": {},
     "output_type": "execute_result"
    }
   ],
   "source": [
    "string = 1,2,3,4,5,3,2,1,1,1,4,4,5,6,7,7\n",
    "string.count(4)"
   ]
  },
  {
   "cell_type": "markdown",
   "id": "cafb1534-c991-43a7-b8ad-a1fa59e4cc16",
   "metadata": {},
   "source": [
    "Write a Python function to merge two sorted lists into a single sorted list."
   ]
  },
  {
   "cell_type": "code",
   "execution_count": 6,
   "id": "a0623375-ea8c-49e4-8624-95e29e2cc21a",
   "metadata": {},
   "outputs": [
    {
     "name": "stdout",
     "output_type": "stream",
     "text": [
      "[0, 1, 2, 3, 4, 5, 6, 7, 8, 9]\n"
     ]
    }
   ],
   "source": [
    "l1 = [0,2,1,4,3]\n",
    "l2 = [5,6,7,8,9]\n",
    "l3 = l1 + l2\n",
    "print(sorted(l3))"
   ]
  },
  {
   "cell_type": "markdown",
   "id": "25172dc3-7aee-4bdd-bb12-dc559af25789",
   "metadata": {},
   "source": [
    "Write a Python function to implement binary search on a sorted list."
   ]
  },
  {
   "cell_type": "code",
   "execution_count": 7,
   "id": "e760540d-cce1-4acc-b0b6-521916f9badc",
   "metadata": {},
   "outputs": [
    {
     "name": "stdout",
     "output_type": "stream",
     "text": [
      "Target 783 not found in the list.\n"
     ]
    }
   ],
   "source": [
    "def search_in_list(ll, i):\n",
    "    if i in ll:\n",
    "        result = sorted(ll).index(i) \n",
    "        print(f\"Target {i} found at index {result} in the sorted list.\")\n",
    "    else:\n",
    "        print(f\"Target {i} not found in the list.\")\n",
    "\n",
    "ll = [1, 2, 3, 4, 44, 99, 6, 78, 5]\n",
    "i = 783\n",
    "search_in_list(ll, i)\n"
   ]
  },
  {
   "cell_type": "markdown",
   "id": "ef39d1ab-4de1-4986-bec7-e836509a9d55",
   "metadata": {},
   "source": [
    "Write a Python function that returns the nth Fibonacci number using recursion."
   ]
  },
  {
   "cell_type": "code",
   "execution_count": 8,
   "id": "f8a7189b-1d6c-4888-a120-07b9b52e4424",
   "metadata": {},
   "outputs": [
    {
     "name": "stdout",
     "output_type": "stream",
     "text": [
      "The 10th Fibonacci number is: 55\n"
     ]
    }
   ],
   "source": [
    "def fibonacci(n):\n",
    "    # Base case: the first two numbers of the Fibonacci sequence\n",
    "    if n == 0:\n",
    "        return 0\n",
    "    elif n == 1:\n",
    "        return 1\n",
    "    else:\n",
    "        # Recursive case: sum of the two preceding numbers\n",
    "        return fibonacci(n - 1) + fibonacci(n - 2)\n",
    "\n",
    "# Example usage\n",
    "n = 10\n",
    "result = fibonacci(n)\n",
    "print(f\"The {n}th Fibonacci number is: {result}\")\n"
   ]
  },
  {
   "cell_type": "markdown",
   "id": "a0762a18-3d50-41ac-9fa8-b22b7731c61a",
   "metadata": {},
   "source": [
    "Write a Python function to solve the N-Queens problem for a given N (where N is the size of the chessboard)."
   ]
  },
  {
   "cell_type": "code",
   "execution_count": 9,
   "id": "082eedda-1e5c-45df-a0c8-7e38e8511d55",
   "metadata": {},
   "outputs": [
    {
     "name": "stdout",
     "output_type": "stream",
     "text": [
      "Number of solutions for 4-Queens problem: 2\n",
      ". Q . .\n",
      ". . . Q\n",
      "Q . . .\n",
      ". . Q .\n",
      "\n",
      "\n",
      ". . Q .\n",
      "Q . . .\n",
      ". . . Q\n",
      ". Q . .\n",
      "\n",
      "\n"
     ]
    }
   ],
   "source": [
    "def solve_n_queens(N):\n",
    "    def is_safe(board, row, col):\n",
    "        # Check this column on the upper side\n",
    "        for i in range(row):\n",
    "            if board[i] == col:\n",
    "                return False\n",
    "\n",
    "        # Check upper diagonal on left side\n",
    "        for i, j in zip(range(row - 1, -1, -1), range(col - 1, -1, -1)):\n",
    "            if board[i] == j:\n",
    "                return False\n",
    "\n",
    "        # Check upper diagonal on right side\n",
    "        for i, j in zip(range(row - 1, -1, -1), range(col + 1, N)):\n",
    "            if board[i] == j:\n",
    "                return False\n",
    "\n",
    "        return True\n",
    "\n",
    "    def solve(board, row):\n",
    "        if row == N:\n",
    "            # Found a valid solution\n",
    "            solutions.append(board[:])\n",
    "            return\n",
    "\n",
    "        for col in range(N):\n",
    "            if is_safe(board, row, col):\n",
    "                board[row] = col  # Place queen\n",
    "                solve(board, row + 1)  # Move to the next row\n",
    "                board[row] = -1  # Backtrack and remove queen\n",
    "\n",
    "    # List to store all the solutions\n",
    "    solutions = []\n",
    "    # Initialize board with -1 (no queen placed)\n",
    "    board = [-1] * N\n",
    "    # Solve the problem starting from the first row\n",
    "    solve(board, 0)\n",
    "\n",
    "    return solutions\n",
    "\n",
    "def print_solution(solutions, N):\n",
    "    for solution in solutions:\n",
    "        for i in range(N):\n",
    "            row = ['.'] * N\n",
    "            row[solution[i]] = 'Q'\n",
    "            print(' '.join(row))\n",
    "        print(\"\\n\")  # Print a newline between solutions\n",
    "\n",
    "# Example usage:\n",
    "N = 4\n",
    "solutions = solve_n_queens(N)\n",
    "print(f\"Number of solutions for {N}-Queens problem: {len(solutions)}\")\n",
    "print_solution(solutions, N)\n"
   ]
  },
  {
   "cell_type": "markdown",
   "id": "282a7d43-7b8c-49bf-b609-c84094fcd229",
   "metadata": {},
   "source": [
    "Write a Python function to implement a simple version of a Trie (prefix tree) for storing and searching strings."
   ]
  },
  {
   "cell_type": "code",
   "execution_count": null,
   "id": "63b76725-456e-4f10-993d-b048b952e90a",
   "metadata": {},
   "outputs": [],
   "source": []
  }
 ],
 "metadata": {
  "kernelspec": {
   "display_name": "Python 3 (ipykernel)",
   "language": "python",
   "name": "python3"
  },
  "language_info": {
   "codemirror_mode": {
    "name": "ipython",
    "version": 3
   },
   "file_extension": ".py",
   "mimetype": "text/x-python",
   "name": "python",
   "nbconvert_exporter": "python",
   "pygments_lexer": "ipython3",
   "version": "3.11.7"
  },
  "widgets": {
   "application/vnd.jupyter.widget-state+json": {
    "state": {},
    "version_major": 2,
    "version_minor": 0
   }
  }
 },
 "nbformat": 4,
 "nbformat_minor": 5
}
