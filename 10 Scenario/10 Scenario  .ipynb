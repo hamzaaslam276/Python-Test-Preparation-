{
 "cells": [
  {
   "cell_type": "markdown",
   "id": "0f1d5907-5f4f-42a1-9544-92331fe3355d",
   "metadata": {},
   "source": [
    "1. *Odd or Even Number Checker*: Write a program that takes an integer as input and prints whether the number is odd or even.\n"
   ]
  },
  {
   "cell_type": "code",
   "execution_count": 1,
   "id": "f3d5694a-7e15-48d2-837b-9cfccc83f1f1",
   "metadata": {},
   "outputs": [
    {
     "name": "stdin",
     "output_type": "stream",
     "text": [
      "Enter a integer number: 4\n"
     ]
    },
    {
     "name": "stdout",
     "output_type": "stream",
     "text": [
      "Number is Even.\n"
     ]
    }
   ],
   "source": [
    "num = int(input(\"Enter a integer number:\"))\n",
    "if num %2 == 0: \n",
    "    print(\"Number is Even.\")\n",
    "else:\n",
    "    print(\"Number is odd.\")"
   ]
  },
  {
   "cell_type": "markdown",
   "id": "1d0f4d37-69c5-4247-bd93-ccb4292a4334",
   "metadata": {},
   "source": [
    "2. *Simple Calculator*:Create a basic calculator that can perform addition, subtraction, multiplication, and division. Prompt the user to enter two numbers and the operation they want to perform.\n"
   ]
  },
  {
   "cell_type": "code",
   "execution_count": 2,
   "id": "151d2255-4973-4288-abe3-7ce85b54ddad",
   "metadata": {},
   "outputs": [
    {
     "name": "stdin",
     "output_type": "stream",
     "text": [
      "Enter a num1: 4\n",
      "Enter a num2: 4\n"
     ]
    },
    {
     "name": "stdout",
     "output_type": "stream",
     "text": [
      "Add 4 + 4 = 8\n",
      "Subt 4 - 4 = 0\n",
      "Mult 4 * 4 = 16\n",
      "Divid 4 / 4 = 1.0\n"
     ]
    }
   ],
   "source": [
    "num1 = int(input(\"Enter a num1:\"))\n",
    "num2 = int(input(\"Enter a num2:\"))\n",
    "print(\"Add\", num1, \"+\"  ,num2 ,\"=\", num1 + num2)\n",
    "print(\"Subt\" , num1, \"-\"  ,num2  , \"=\", num1 - num2)\n",
    "print(\"Mult\" , num1, \"*\"  ,num2 , \"=\", num1 * num2)\n",
    "print(\"Divid\" ,  num1, \"/\"  ,num2 , \"=\", num1 / num2)"
   ]
  },
  {
   "cell_type": "markdown",
   "id": "1035ea82-0fc4-44b5-95a5-d7007acd956e",
   "metadata": {},
   "source": [
    "3. *Word Counter*: Write a function that takes a sentence as input and returns the number of words in the sentence.\n"
   ]
  },
  {
   "cell_type": "code",
   "execution_count": 3,
   "id": "e3752d3f-f3e6-4a78-ac05-ddd01a1803cd",
   "metadata": {
    "scrolled": true
   },
   "outputs": [
    {
     "name": "stdin",
     "output_type": "stream",
     "text": [
      "Enter a sentence: This is a simple example for test.\n"
     ]
    },
    {
     "name": "stdout",
     "output_type": "stream",
     "text": [
      "The number of words in the sentence.  7\n"
     ]
    }
   ],
   "source": [
    "sentence = input(\"Enter a sentence:\")\n",
    "print(\"The number of words in the sentence. \", len(sentence.split()))"
   ]
  },
  {
   "cell_type": "markdown",
   "id": "af2fdf1b-12a7-4c7e-a52c-29d35ccbe1eb",
   "metadata": {},
   "source": [
    "4. *Reverse a String*: Create a program that takes a string as input and returns the string reversed."
   ]
  },
  {
   "cell_type": "code",
   "execution_count": 4,
   "id": "c911dcbc-3629-42b5-9444-4ac8462779a5",
   "metadata": {},
   "outputs": [
    {
     "name": "stdin",
     "output_type": "stream",
     "text": [
      "Enter a string: hamza aslam\n"
     ]
    },
    {
     "data": {
      "text/plain": [
       "'malsa azmah'"
      ]
     },
     "execution_count": 4,
     "metadata": {},
     "output_type": "execute_result"
    }
   ],
   "source": [
    "string = input(\"Enter a string:\")\n",
    "string[::-1]"
   ]
  },
  {
   "cell_type": "markdown",
   "id": "73be6d76-0d55-426d-8e09-fb8023f83f89",
   "metadata": {},
   "source": [
    "4. *Reverse a String*: Create a program that takes a string as input and returns the string reversed."
   ]
  },
  {
   "cell_type": "code",
   "execution_count": 5,
   "id": "80617792-4130-4bc9-905f-990cf6a96ac1",
   "metadata": {},
   "outputs": [
    {
     "name": "stdin",
     "output_type": "stream",
     "text": [
      "Enter a string: hamza aslam\n"
     ]
    },
    {
     "data": {
      "text/plain": [
       "['aslam', 'hamza']"
      ]
     },
     "execution_count": 5,
     "metadata": {},
     "output_type": "execute_result"
    }
   ],
   "source": [
    "string = input(\"Enter a string:\")\n",
    "string.split()[::-1]"
   ]
  },
  {
   "cell_type": "markdown",
   "id": "1368a469-9d76-49f7-9ab9-6f2a0bcdc3c3",
   "metadata": {},
   "source": [
    "5. *Palindrome Checker*: Write a function that checks if a given string is a palindrome (a word, phrase, or sequence that reads the same backward as forward)."
   ]
  },
  {
   "cell_type": "code",
   "execution_count": 6,
   "id": "ff3015bb-904a-4b7e-bf5b-6501b657efce",
   "metadata": {},
   "outputs": [
    {
     "name": "stdin",
     "output_type": "stream",
     "text": [
      "Enter a string: hamza\n"
     ]
    },
    {
     "name": "stdout",
     "output_type": "stream",
     "text": [
      "Not Panlindrome\n",
      "hamza\n",
      "azmah\n"
     ]
    }
   ],
   "source": [
    "string = input(\"Enter a string:\")\n",
    "if string == string[::-1]: \n",
    "    print(\"Palindrome\")\n",
    "else:\n",
    "    print(\"Not Panlindrome\")\n",
    "print(string[0::])\n",
    "print(string[::-1])"
   ]
  },
  {
   "cell_type": "markdown",
   "id": "e17fddb1-a631-41e7-809d-6f60b1ff48b5",
   "metadata": {},
   "source": [
    "6. *Fibonacci Sequence Generator*: Create a function that generates the Fibonacci sequence up to the n-th term, where n is an integer input.\n",
    "\n"
   ]
  },
  {
   "cell_type": "code",
   "execution_count": 7,
   "id": "21a1afc2-a5ed-4379-923f-7553b82eeb86",
   "metadata": {},
   "outputs": [
    {
     "name": "stdout",
     "output_type": "stream",
     "text": [
      "[0, 1, 1, 2, 3, 5, 8, 13, 21, 34]\n"
     ]
    }
   ],
   "source": [
    "def fibonacci_sequence(n):\n",
    "    sequence = [0, 1]\n",
    "    if n <= 0:\n",
    "        return []\n",
    "    elif n == 1:\n",
    "        return [0]\n",
    "    elif n == 2:\n",
    "        return sequence\n",
    "    for i in range(2, n):\n",
    "        next_value = sequence[-1] + sequence[-2]\n",
    "        sequence.append(next_value)\n",
    "    \n",
    "    return sequence\n",
    "\n",
    "n = 10\n",
    "print(fibonacci_sequence(n)) "
   ]
  },
  {
   "cell_type": "markdown",
   "id": "fd1cf282-cd3f-4a2c-9da5-9645a84b58f1",
   "metadata": {},
   "source": [
    "\n",
    "7. *Basic To-Do List*: Implement a simple to-do list program where the user can add, view, and remove tasks. Use a list to store the tasks.\n"
   ]
  },
  {
   "cell_type": "code",
   "execution_count": 8,
   "id": "d2a2f3a4-7cab-411e-8d0a-7ccca107450d",
   "metadata": {},
   "outputs": [
    {
     "name": "stdout",
     "output_type": "stream",
     "text": [
      "\n",
      "To-Do List Menu\n",
      "1. View tasks\n",
      "2. Add a task\n",
      "3. Remove a task\n",
      "4. Exit\n"
     ]
    },
    {
     "name": "stdin",
     "output_type": "stream",
     "text": [
      "Enter your choice (1-4):  2\n",
      "Enter the task to add:  suger\n"
     ]
    },
    {
     "name": "stdout",
     "output_type": "stream",
     "text": [
      "Task 'suger' added.\n",
      "\n",
      "To-Do List Menu\n",
      "1. View tasks\n",
      "2. Add a task\n",
      "3. Remove a task\n",
      "4. Exit\n"
     ]
    },
    {
     "name": "stdin",
     "output_type": "stream",
     "text": [
      "Enter your choice (1-4):  3\n"
     ]
    },
    {
     "name": "stdout",
     "output_type": "stream",
     "text": [
      "\n",
      "Your Current To-Do List:\n",
      "--> suger\n"
     ]
    },
    {
     "name": "stdin",
     "output_type": "stream",
     "text": [
      "Enter a task to remove. suger\n"
     ]
    },
    {
     "name": "stdout",
     "output_type": "stream",
     "text": [
      "task 'suger' removed.\n",
      "\n",
      "To-Do List Menu\n",
      "1. View tasks\n",
      "2. Add a task\n",
      "3. Remove a task\n",
      "4. Exit\n"
     ]
    },
    {
     "name": "stdin",
     "output_type": "stream",
     "text": [
      "Enter your choice (1-4):  4\n"
     ]
    },
    {
     "name": "stdout",
     "output_type": "stream",
     "text": [
      "Exiting the to-do list program.\n"
     ]
    }
   ],
   "source": [
    "def display_menu():\n",
    "    print(\"\\nTo-Do List Menu\")\n",
    "    print(\"1. View tasks\")\n",
    "    print(\"2. Add a task\")\n",
    "    print(\"3. Remove a task\")\n",
    "    print(\"4. Exit\")\n",
    "\n",
    "def view_tasks(tasks):\n",
    "    if not tasks:\n",
    "        print(\"Your to-do list is empty.\")\n",
    "    else:\n",
    "        print(\"\\nYour To-Do List:\")\n",
    "        for task in tasks:\n",
    "            print(f\"--> {task}\")\n",
    "\n",
    "def add_task(tasks):\n",
    "    task = input(\"Enter the task to add: \")\n",
    "    tasks.append(task)\n",
    "    print(f\"Task '{task}' added.\")\n",
    "\n",
    "def remove_task(tasks):\n",
    "    if not tasks:\n",
    "        print(\"Your to-do list is empty. Nothing to remove.\")\n",
    "        return\n",
    "    print(\"\\nYour Current To-Do List:\")\n",
    "    for task in tasks:\n",
    "            print(f\"--> {task}\")\n",
    "    task_to_remove = input(\"Enter a task to remove.\")\n",
    "    if task_to_remove in tasks:\n",
    "        tasks.remove(task_to_remove)\n",
    "        print(f\"task '{task_to_remove}' removed.\")\n",
    "    else:\n",
    "        print(\"Invalid input. Please enter a valid task.\")        \n",
    "\n",
    "\n",
    "def main():\n",
    "    \n",
    "    tasks = []\n",
    "    while True:\n",
    "        display_menu()\n",
    "        choice = input(\"Enter your choice (1-4): \")\n",
    "        \n",
    "        if choice == '1':\n",
    "            view_tasks(tasks)\n",
    "        elif choice == '2':\n",
    "            add_task(tasks)\n",
    "        elif choice == '3':\n",
    "            remove_task(tasks)\n",
    "        elif choice == '4':\n",
    "            print(\"Exiting the to-do list program.\")\n",
    "            break\n",
    "        else:\n",
    "            print(\"Invalid choice. Please enter a number between 1 and 4.\")\n",
    "\n",
    "\n",
    "main()\n"
   ]
  },
  {
   "cell_type": "markdown",
   "id": "a3703aef-a6a5-4e8a-a6a9-7a3e16e4da5d",
   "metadata": {},
   "source": [
    "8. *Prime Number Checker*: Write a program that checks if a given number is prime. The program should take an integer input and return whether it is a prime number or not."
   ]
  },
  {
   "cell_type": "code",
   "execution_count": 9,
   "id": "1fd6aeb5-e4a1-4861-83e0-a7641ff1acf6",
   "metadata": {},
   "outputs": [
    {
     "name": "stdin",
     "output_type": "stream",
     "text": [
      "Enter an integer:  27\n"
     ]
    },
    {
     "name": "stdout",
     "output_type": "stream",
     "text": [
      "27 is not a prime number.\n"
     ]
    }
   ],
   "source": [
    "def is_prime(number):\n",
    "    if number <= 1:\n",
    "        return False\n",
    "    for i in range(2, int(number ** 0.5) + 1):\n",
    "        if number % i == 0:\n",
    "            return False\n",
    "    return True\n",
    "num = int(input(\"Enter an integer: \"))\n",
    "\n",
    "\n",
    "if is_prime(num):\n",
    "    print(f\"{num} is a prime number.\")\n",
    "else:\n",
    "    print(f\"{num} is not a prime number.\")\n"
   ]
  },
  {
   "cell_type": "markdown",
   "id": "5cbc01c0-590d-4bf5-8282-b76f96986c32",
   "metadata": {},
   "source": [
    "9. *Shopping Cart System*: Develop a small shopping cart system where users can add items (with names and prices) to their cart, view the cart's contents, and get the total cost. Use a dictionary to store the items and their prices."
   ]
  },
  {
   "cell_type": "code",
   "execution_count": 10,
   "id": "7d49d900-0264-4696-a990-e21f831bfe36",
   "metadata": {},
   "outputs": [
    {
     "name": "stdout",
     "output_type": "stream",
     "text": [
      "\n",
      "Shopping cart System\n",
      "1. Add cart\n",
      "2. View cart\n",
      "3. Get Total cost\n",
      "4. Exit\n"
     ]
    },
    {
     "name": "stdin",
     "output_type": "stream",
     "text": [
      "Choose a no(1,2,3,4): 1\n",
      "Enter a name: suger\n",
      "Enter a suger price: 333\n"
     ]
    },
    {
     "name": "stdout",
     "output_type": "stream",
     "text": [
      "suger Added a item.\n",
      "\n",
      "Shopping cart System\n",
      "1. Add cart\n",
      "2. View cart\n",
      "3. Get Total cost\n",
      "4. Exit\n"
     ]
    },
    {
     "name": "stdin",
     "output_type": "stream",
     "text": [
      "Choose a no(1,2,3,4): 4\n"
     ]
    },
    {
     "name": "stdout",
     "output_type": "stream",
     "text": [
      "Exiting the shopping cart system. Thank you!\n"
     ]
    }
   ],
   "source": [
    "def add_items(cart,name,price):\n",
    "    cart[name] = price\n",
    "def view_cart(cart):\n",
    "    print(f\"{'Name':<10} {'Price Rs':<10}\")\n",
    "    print(f\"{'...'*6}\")\n",
    "    if not cart:\n",
    "        print(\"Cart is empty\")\n",
    "        return\n",
    "    for name, price in cart.items():\n",
    "        print(f\"{name:<10} {price:<10}\")\n",
    "\n",
    "def totat_cost(cart):\n",
    "    total = sum(cart.values())\n",
    "    print(f\"Total cost: Rs{total}\")\n",
    "    return\n",
    "\n",
    "def main():\n",
    "    cart = {}\n",
    "    while True: \n",
    "        print(\"\\nShopping cart System\")\n",
    "        print(\"1. Add cart\")\n",
    "        print(\"2. View cart\")\n",
    "        print(\"3. Get Total cost\")\n",
    "        print(\"4. Exit\")\n",
    "        choice = input(\"Choose a no(1,2,3,4):\")\n",
    "        if choice == '1':\n",
    "            name = input(\"Enter a name:\")\n",
    "            if name in cart:\n",
    "                print(f\"{name} allready exited.\")\n",
    "            price = float(input(f\"Enter a {name} price:\"))\n",
    "            if name not in cart:\n",
    "                cart[name] = price\n",
    "                print(f\"{name} Added a item.\")\n",
    "            add_items(cart,name,price)\n",
    "        elif choice == '2':\n",
    "            view_cart(cart)\n",
    "        elif choice == '3':\n",
    "            totat_cost(cart)\n",
    "        elif choice == '4':\n",
    "            print(\"Exiting the shopping cart system. Thank you!\")\n",
    "            break\n",
    "        else:\n",
    "            print(\"choose a Invilled no\")\n",
    "    return\n",
    "\n",
    "main()"
   ]
  },
  {
   "cell_type": "markdown",
   "id": "37965ff7-33cf-40bc-aa61-a3b30a6b5e77",
   "metadata": {},
   "source": [
    "10. *Anagram Finder*: Write a program that takes two strings as input and checks if they are anagrams (i.e., they contain the same characters in different orders)."
   ]
  },
  {
   "cell_type": "code",
   "execution_count": 11,
   "id": "633858b4-8f65-40bc-b5f7-3fe31aa7ee38",
   "metadata": {},
   "outputs": [
    {
     "name": "stdin",
     "output_type": "stream",
     "text": [
      "Enter a string 1: HAMZA aslam\n",
      "Enter a string 2: aslam HAMZA\n"
     ]
    },
    {
     "name": "stdout",
     "output_type": "stream",
     "text": [
      "This String is anagrams.\n"
     ]
    }
   ],
   "source": [
    "str1 = input(\"Enter a string 1:\")\n",
    "str2 = input(\"Enter a string 2:\")\n",
    "if sorted(str1) == sorted(str2):\n",
    "    print(\"This String is anagrams.\")\n",
    "else:\n",
    "    print(\"This String is Not anagrams.\")"
   ]
  },
  {
   "cell_type": "code",
   "execution_count": null,
   "id": "52f8a3e4-ec9a-4635-b129-80f5f78ba01c",
   "metadata": {},
   "outputs": [],
   "source": []
  }
 ],
 "metadata": {
  "kernelspec": {
   "display_name": "Python 3 (ipykernel)",
   "language": "python",
   "name": "python3"
  },
  "language_info": {
   "codemirror_mode": {
    "name": "ipython",
    "version": 3
   },
   "file_extension": ".py",
   "mimetype": "text/x-python",
   "name": "python",
   "nbconvert_exporter": "python",
   "pygments_lexer": "ipython3",
   "version": "3.11.7"
  },
  "widgets": {
   "application/vnd.jupyter.widget-state+json": {
    "state": {},
    "version_major": 2,
    "version_minor": 0
   }
  }
 },
 "nbformat": 4,
 "nbformat_minor": 5
}
